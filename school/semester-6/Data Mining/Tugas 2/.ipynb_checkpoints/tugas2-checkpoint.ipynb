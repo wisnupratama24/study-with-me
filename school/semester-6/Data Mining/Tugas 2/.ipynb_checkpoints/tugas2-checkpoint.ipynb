{
 "cells": [
  {
   "cell_type": "code",
   "execution_count": 9,
   "metadata": {},
   "outputs": [
    {
     "name": "stdout",
     "output_type": "stream",
     "text": [
      "[['You Do You: Discovering Life through Experiments & Self-Awareness'\n",
      "  'Fellexandro Ruby' 'Gramedia Pustaka Utama' nan 'indonesia']\n",
      " ['Kitab Kawin (kumpulan cerita)' 'Laksmi Pamuntjak'\n",
      "  'Gramedia Pustaka Utama\\xa0' 'Remaja' 'indonesia']\n",
      " ['Rindu (cover baru 2021)' 'Tere Liye' 'Gramedia Pustaka Utama\\xa0'\n",
      "  'Drama' 'indonesia']\n",
      " ['Pergi Cover Baru' 'Tere Liye' 'Gramedia Pustaka Utama\\xa0' 'Remaja'\n",
      "  'indonesia']\n",
      " ['Jalan Panjang Untuk Pulang' 'Agustinus Wibowo'\n",
      "  'Gramedia Pustaka Utama\\xa0' 'Filosofi' 'indonesia']\n",
      " ['Pembunuhan Di Rumah Miring (Murder In The Crooked House) Baru'\n",
      "  'Soji Shimada' 'Gramedia Pustaka Utama\\xa0' 'Mistery-Thriller'\n",
      "  'indonesia']\n",
      " ['Pemanggil Cahaya (A Conjuring Of Light)' nan\n",
      "  'Gramedia Pustaka Utama\\xa0' 'Comic' 'indonesia']\n",
      " ['Segi Tiga (Sebuah Novel Sapardi Djoko Damono)' 'Sapardi Djoko Damono'\n",
      "  'Gramedia Pustaka Utama\\xa0' 'Remaja' 'indonesia']\n",
      " ['The Last Crowd Edisi Bahasa Inggris Dari Kerumunan Terakhir'\n",
      "  'Okky Puspa Madasari' 'Gramedia Pustaka Utama\\xa0' 'Fiksi' 'indonesia']]\n"
     ]
    }
   ],
   "source": [
    "import numpy as np\n",
    "import matplotlib.pyplot as plt\n",
    "import pandas as pd\n",
    "\n",
    "dataset = pd.read_csv('Data.csv')\n",
    "X = dataset.iloc[:, :-1].values\n",
    "Y = dataset.iloc[:, -1].values\n",
    "\n",
    "# print(X)\n",
    "\n",
    "from sklearn.impute import SimpleImputer\n",
    "\n",
    "imputer = SimpleImputer(missing_values=np.nan, strategy='mean')\n",
    "imputer.fit(X[:, 1:3])\n",
    "X[:, 1:3] = imputer.transform(X[:,1:3])\n",
    "\n",
    "# print(X)\n",
    "\n",
    "from sklearn.compose import ColumnTransformer\n",
    "from sklearn.preprocessing import OneHotEncoder\n",
    "\n",
    "ct = ColumnTransformer(transformers=[('encoder', OneHotEncoder(), [0])], remainder='passthrough')\n",
    "\n",
    "X = np.array(ct.fit_transform(X))\n",
    "\n",
    "# print(X)\n",
    "from sklearn.preprocessing import LabelEncoder\n",
    "\n",
    "le = LabelEncoder()\n",
    "Y = le.fit_transform(Y)\n",
    "\n",
    "from sklearn.model_selection import train_test_split\n",
    "\n",
    "\n",
    "X_train, X_test, Y_train, Y_test = train_test_split(X, Y, test_size = 0.2, random_state = 1)\n",
    "\n",
    "# print(X_train)\n",
    "\n",
    "from sklearn.preprocessing import StandardScaler\n",
    "sc = StandardScaler()\n",
    "\n",
    "X_train[:, 3:]= sc.fit_transform(X_train[:, 3:])\n",
    "X_test[:, 3:]= sc.transform(X_test[:, 3:])\n",
    "\n",
    "\n",
    "print(X_train)\n",
    "# print(\"\\n\")\n",
    "# print(X_test)"
   ]
  },
  {
   "cell_type": "code",
   "execution_count": null,
   "metadata": {},
   "outputs": [],
   "source": [
    "\n"
   ]
  },
  {
   "cell_type": "code",
   "execution_count": null,
   "metadata": {},
   "outputs": [],
   "source": []
  },
  {
   "cell_type": "code",
   "execution_count": null,
   "metadata": {},
   "outputs": [],
   "source": []
  },
  {
   "cell_type": "code",
   "execution_count": null,
   "metadata": {},
   "outputs": [],
   "source": []
  },
  {
   "cell_type": "code",
   "execution_count": null,
   "metadata": {},
   "outputs": [],
   "source": []
  }
 ],
 "metadata": {
  "kernelspec": {
   "display_name": "Python 3",
   "language": "python",
   "name": "python3"
  },
  "language_info": {
   "codemirror_mode": {
    "name": "ipython",
    "version": 3
   },
   "file_extension": ".py",
   "mimetype": "text/x-python",
   "name": "python",
   "nbconvert_exporter": "python",
   "pygments_lexer": "ipython3",
   "version": "3.8.5"
  }
 },
 "nbformat": 4,
 "nbformat_minor": 4
}
